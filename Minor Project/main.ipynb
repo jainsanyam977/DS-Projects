{
 "cells": [
  {
   "cell_type": "markdown",
   "metadata": {},
   "source": [
    "### Importing Functions"
   ]
  },
  {
   "cell_type": "code",
   "execution_count": 2,
   "metadata": {},
   "outputs": [],
   "source": [
    "from functions import read_glove_vecs, cosine_similarity, neutralize, equalize"
   ]
  },
  {
   "cell_type": "markdown",
   "metadata": {},
   "source": [
    "### Loading the Data"
   ]
  },
  {
   "cell_type": "code",
   "execution_count": 3,
   "metadata": {},
   "outputs": [],
   "source": [
    "words, word_to_vec_map = read_glove_vecs('Data/glove.6B.50d.txt')"
   ]
  },
  {
   "cell_type": "markdown",
   "metadata": {},
   "source": [
    "### Cosine Similarity"
   ]
  },
  {
   "cell_type": "code",
   "execution_count": 6,
   "metadata": {},
   "outputs": [
    {
     "name": "stdout",
     "output_type": "stream",
     "text": [
      "More Similar: \n",
      "\n",
      "cosine_similarity(science, engineering) =  0.778049712359862\n",
      "\n",
      "Less Similar: \n",
      "\n",
      "cosine_similarity(pencil, salt) =  0.2291504477238667\n"
     ]
    }
   ],
   "source": [
    "science = word_to_vec_map[\"science\"]\n",
    "engineering = word_to_vec_map[\"engineering\"]\n",
    "pencil = word_to_vec_map[\"pencil\"]\n",
    "salt = word_to_vec_map[\"salt\"]\n",
    "\n",
    "print(\"More Similar: \\n\")\n",
    "print(\"cosine_similarity(science, engineering) = \", cosine_similarity(father, mother))\n",
    "print(\"\\nLess Similar: \\n\")\n",
    "print(\"cosine_similarity(pencil, salt) = \",cosine_similarity(ball, crocodile))"
   ]
  },
  {
   "cell_type": "markdown",
   "metadata": {},
   "source": [
    "### The Debiasing Vector"
   ]
  },
  {
   "cell_type": "code",
   "execution_count": 11,
   "metadata": {},
   "outputs": [
    {
     "name": "stdout",
     "output_type": "stream",
     "text": [
      "The Debiasing Vector: \n",
      "\n",
      "[ 0.17230867  0.31817517 -0.20815     0.072185   -0.10321667  0.41634333\n",
      "  0.01078847  0.17817833  0.46710077 -0.16869173 -0.06719833 -0.34405833\n",
      "  0.49068117  0.15997167  0.194975    0.01571067 -0.52350667 -0.07954117\n",
      "  0.5042835  -0.003768    0.14832     0.48892833  0.15425517  0.26698133\n",
      "  0.26006833  0.05011667 -0.063551    0.2706478  -0.07729667 -0.409277\n",
      " -0.07080167  0.21179633  0.0513705   0.10911181 -0.121455   -0.09273533\n",
      "  0.00548105 -0.07067133  0.12864333 -0.3564995  -0.0556525  -0.1095425\n",
      "  0.42338095 -0.38284202  0.17502733 -0.1164195   0.15090933 -0.34197\n",
      "  0.03239367  0.147068  ]\n"
     ]
    }
   ],
   "source": [
    "# woman-man, she-he, grandmother-grandfather, female-male, mother-father, wife-husband\n",
    "\n",
    "g = word_to_vec_map['woman'] - word_to_vec_map['man'] + word_to_vec_map['she'] - word_to_vec_map['he'] + word_to_vec_map['grandmother'] - word_to_vec_map['grandfather'] + word_to_vec_map['female'] - word_to_vec_map['male'] + word_to_vec_map['mother'] - word_to_vec_map['father'] + word_to_vec_map['wife'] - word_to_vec_map['husband'];\n",
    "\n",
    "g = g/6;\n",
    "\n",
    "print(\"The Debiasing Vector: \\n\")\n",
    "\n",
    "print(g)"
   ]
  },
  {
   "cell_type": "code",
   "execution_count": 14,
   "metadata": {},
   "outputs": [
    {
     "name": "stdout",
     "output_type": "stream",
     "text": [
      "The girls name have positive similarity while boys name have negative similarity with g: \n",
      "\n",
      "mike -0.1922341385226291\n",
      "rosy 0.18023278628006043\n",
      "samantha 0.45813808942082057\n",
      "jack -0.006953465967726272\n",
      "priya 0.2643609512311685\n",
      "rahul -0.1248442672465688\n",
      "hasley -0.05286430001595785\n",
      "riya 0.2836001704949712\n",
      "monika 0.3219618915989389\n",
      "ron -0.15975354761685634\n"
     ]
    }
   ],
   "source": [
    "print ('The girls name have positive similarity while boys name have negative similarity with g: \\n')\n",
    "\n",
    "# girls and boys name\n",
    "name_list = ['mike', 'rosy', 'samantha', 'jack', 'priya', 'rahul', 'hasley', 'riya', 'monika', 'ron']\n",
    "\n",
    "for w in name_list:\n",
    "    print (w, cosine_similarity(word_to_vec_map[w], g))"
   ]
  },
  {
   "cell_type": "markdown",
   "metadata": {},
   "source": [
    "### Some words which should be gender neutral and their similarity with The Debiasing Vector"
   ]
  },
  {
   "cell_type": "code",
   "execution_count": 18,
   "metadata": {},
   "outputs": [
    {
     "name": "stdout",
     "output_type": "stream",
     "text": [
      "executive -0.16896698949990635\n",
      "home 0.027339153657194255\n",
      "salary -0.18726324579517178\n",
      "cousins 0.10309186343380422\n",
      "literature -0.06470246714035664\n",
      "warrior -0.1629008830415008\n",
      "doctor 0.17164289606928423\n",
      "tree 0.11028361394014442\n",
      "receptionist 0.4375522414395154\n",
      "technology -0.14723705082462607\n",
      "engineering -0.16896311487714075\n",
      "teacher 0.12914946108985478\n",
      "children 0.3603064875161251\n",
      "career -0.1443401820420107\n",
      "family 0.12834501407477353\n",
      "professional -0.11090981646941864\n"
     ]
    }
   ],
   "source": [
    "word_list = ['executive', 'home', 'salary', 'cousins', 'literature', 'warrior','doctor', 'tree', 'receptionist', \n",
    "             'technology',  'engineering', 'teacher', 'children', 'career', 'family', 'professional']\n",
    "for w in word_list:\n",
    "    print (w, cosine_similarity(word_to_vec_map[w], g))"
   ]
  },
  {
   "cell_type": "markdown",
   "metadata": {},
   "source": [
    "### Neutralising"
   ]
  },
  {
   "cell_type": "code",
   "execution_count": 23,
   "metadata": {},
   "outputs": [
    {
     "name": "stdout",
     "output_type": "stream",
     "text": [
      "cosine similarity between engineering and g, before neutralizing:  -0.16896311487714075\n",
      "cosine similarity between engineering and g, after neutralizing:  -3.685365505946654e-17 (Almost 0)\n"
     ]
    }
   ],
   "source": [
    "e = \"engineering\"\n",
    "print(\"cosine similarity between \" + e + \" and g, before neutralizing: \", cosine_similarity(word_to_vec_map[\"engineering\"], g))\n",
    "\n",
    "e_debiased = neutralize(\"engineering\", g, word_to_vec_map)\n",
    "print(\"cosine similarity between \" + e + \" and g, after neutralizing: \", cosine_similarity(e_debiased, g), \"(Almost 0)\")"
   ]
  },
  {
   "cell_type": "code",
   "execution_count": 24,
   "metadata": {},
   "outputs": [
    {
     "name": "stdout",
     "output_type": "stream",
     "text": [
      "cosine similarity between executive and g, before neutralizing:  -0.16896698949990635\n",
      "cosine similarity between executive and g, after neutralizing:  -6.44426050322979e-17 (Almost 0)\n"
     ]
    }
   ],
   "source": [
    "e = \"executive\"\n",
    "print(\"cosine similarity between \" + e + \" and g, before neutralizing: \", cosine_similarity(word_to_vec_map[\"executive\"], g))\n",
    "\n",
    "e_debiased = neutralize(\"executive\", g, word_to_vec_map)\n",
    "print(\"cosine similarity between \" + e + \" and g, after neutralizing: \", cosine_similarity(e_debiased, g), \"(Almost 0)\")"
   ]
  },
  {
   "cell_type": "code",
   "execution_count": 25,
   "metadata": {},
   "outputs": [
    {
     "name": "stdout",
     "output_type": "stream",
     "text": [
      "cosine similarity between doctor and g, before neutralizing:  0.17164289606928423\n",
      "cosine similarity between doctor and g, after neutralizing:  2.13282669356855e-17 (Almost 0)\n"
     ]
    }
   ],
   "source": [
    "e = \"doctor\"\n",
    "print(\"cosine similarity between \" + e + \" and g, before neutralizing: \", cosine_similarity(word_to_vec_map[\"doctor\"], g))\n",
    "\n",
    "e_debiased = neutralize(\"doctor\", g, word_to_vec_map)\n",
    "print(\"cosine similarity between \" + e + \" and g, after neutralizing: \", cosine_similarity(e_debiased, g), \"(Almost 0)\")"
   ]
  },
  {
   "cell_type": "markdown",
   "metadata": {},
   "source": [
    "### Equalization"
   ]
  },
  {
   "cell_type": "code",
   "execution_count": 31,
   "metadata": {},
   "outputs": [
    {
     "name": "stdout",
     "output_type": "stream",
     "text": [
      "cosine similarities before equalizing:\n",
      "cosine_similarity(word_to_vec_map[\"father\"], gender) =  0.014599116307296978\n",
      "cosine_similarity(word_to_vec_map[\"mother\"], gender) =  0.43579091376726214\n",
      "\n",
      "cosine similarities after equalizing:\n",
      "cosine_similarity(e1, gender) =  -0.6714135177040442\n",
      "cosine_similarity(e2, gender) =  0.6714135177040447\n"
     ]
    }
   ],
   "source": [
    "print(\"cosine similarities before equalizing:\")\n",
    "print(\"cosine_similarity(word_to_vec_map[\\\"father\\\"], gender) = \", cosine_similarity(word_to_vec_map[\"father\"], g))\n",
    "print(\"cosine_similarity(word_to_vec_map[\\\"mother\\\"], gender) = \", cosine_similarity(word_to_vec_map[\"mother\"], g))\n",
    "print()\n",
    "w1, w2 = equalize((\"father\", \"mother\"), g, word_to_vec_map)\n",
    "print(\"cosine similarities after equalizing:\")\n",
    "print(\"cosine_similarity(w1, gender) = \", cosine_similarity(w1, g))\n",
    "print(\"cosine_similarity(w2, gender) = \", cosine_similarity(w2, g))"
   ]
  },
  {
   "cell_type": "code",
   "execution_count": 32,
   "metadata": {},
   "outputs": [
    {
     "name": "stdout",
     "output_type": "stream",
     "text": [
      "cosine similarities before equalizing:\n",
      "cosine_similarity(word_to_vec_map[\"husband\"], gender) =  0.2526202463379051\n",
      "cosine_similarity(word_to_vec_map[\"wife\"], gender) =  0.4031327321884288\n",
      "\n",
      "cosine similarities after equalizing:\n",
      "cosine_similarity(e1, gender) =  -0.48019758155996645\n",
      "cosine_similarity(e2, gender) =  0.4801975815599667\n"
     ]
    }
   ],
   "source": [
    "print(\"cosine similarities before equalizing:\")\n",
    "print(\"cosine_similarity(word_to_vec_map[\\\"husband\\\"], gender) = \", cosine_similarity(word_to_vec_map[\"husband\"], g))\n",
    "print(\"cosine_similarity(word_to_vec_map[\\\"wife\\\"], gender) = \", cosine_similarity(word_to_vec_map[\"wife\"], g))\n",
    "print()\n",
    "w1, w2 = equalize((\"husband\", \"wife\"), g, word_to_vec_map)\n",
    "print(\"cosine similarities after equalizing:\")\n",
    "print(\"cosine_similarity(w1, gender) = \", cosine_similarity(w1, g))\n",
    "print(\"cosine_similarity(w2, gender) = \", cosine_similarity(w2, g))"
   ]
  },
  {
   "cell_type": "code",
   "execution_count": 33,
   "metadata": {},
   "outputs": [
    {
     "name": "stdout",
     "output_type": "stream",
     "text": [
      "cosine similarities before equalizing:\n",
      "cosine_similarity(word_to_vec_map[\"he\"], gender) =  -0.10607781089727206\n",
      "cosine_similarity(word_to_vec_map[\"she\"], gender) =  0.32660195346529114\n",
      "\n",
      "cosine similarities after equalizing:\n",
      "cosine_similarity(w1, gender) =  -0.6659119226363104\n",
      "cosine_similarity(w2, gender) =  0.6659119226363104\n"
     ]
    }
   ],
   "source": [
    "print(\"cosine similarities before equalizing:\")\n",
    "print(\"cosine_similarity(word_to_vec_map[\\\"he\\\"], gender) = \", cosine_similarity(word_to_vec_map[\"he\"], g))\n",
    "print(\"cosine_similarity(word_to_vec_map[\\\"she\\\"], gender) = \", cosine_similarity(word_to_vec_map[\"she\"], g))\n",
    "print()\n",
    "w1, w2 = equalize((\"he\", \"she\"), g, word_to_vec_map)\n",
    "print(\"cosine similarities after equalizing:\")\n",
    "print(\"cosine_similarity(w1, gender) = \", cosine_similarity(w1, g))\n",
    "print(\"cosine_similarity(w2, gender) = \", cosine_similarity(w2, g))"
   ]
  },
  {
   "cell_type": "markdown",
   "metadata": {},
   "source": [
    "### Thank you"
   ]
  }
 ],
 "metadata": {
  "kernelspec": {
   "display_name": "Python 3",
   "language": "python",
   "name": "python3"
  },
  "language_info": {
   "codemirror_mode": {
    "name": "ipython",
    "version": 3
   },
   "file_extension": ".py",
   "mimetype": "text/x-python",
   "name": "python",
   "nbconvert_exporter": "python",
   "pygments_lexer": "ipython3",
   "version": "3.7.3"
  }
 },
 "nbformat": 4,
 "nbformat_minor": 2
}
